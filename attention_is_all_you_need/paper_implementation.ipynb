{
 "cells": [
  {
   "cell_type": "code",
   "execution_count": 76,
   "metadata": {},
   "outputs": [],
   "source": [
    "import torch\n",
    "import torch.nn as nn\n",
    "import torch.optim as optim\n",
    "import torch.utils.data as data\n",
    "\n",
    "import math\n",
    "import copy"
   ]
  },
  {
   "cell_type": "markdown",
   "metadata": {},
   "source": [
    "# Multi-Head Attention"
   ]
  },
  {
   "cell_type": "code",
   "execution_count": 77,
   "metadata": {},
   "outputs": [],
   "source": [
    "class MultiHeadAttention(nn.Module):\n",
    "    def __init__(self, d_model, num_heads):\n",
    "        super(MultiHeadAttention, self).__init__()\n",
    "\n",
    "        # number of heads should be a multiple of dimension of d_model(input, hidden layers and output)\n",
    "        assert d_model%num_heads == 0, \"d_model must be divisible by num_heads\"\n",
    "\n",
    "        self.d_model = d_model # dimension of hidden layers, input and output\n",
    "        self.num_heads = num_heads # number of heads in multiheaded attention\n",
    "        self.d_k = d_model//num_heads # dimention of Querues and Keys after linear projection into num_heads\n",
    "\n",
    "        self.W_q = nn.Linear(d_model, d_model) # weight matrix of Queries\n",
    "        self.W_k = nn.Linear(d_model, d_model) # weight matrix of Keys\n",
    "        self.W_v = nn.Linear(d_model, d_model) # weight matrix of Values\n",
    "        self.W_o = nn.Linear(d_model, d_model) # weight matrix of Output\n",
    "\n",
    "    # calculate scaled dot production attention score\n",
    "    def scaled_dot_product_attention(self, Q, K, V, mask = None):\n",
    "\n",
    "        # scaling dot product of Q and K by sqrt(d_k)\n",
    "        attn_scores = torch.matmul(Q, K.transpose(-2, -1))/math.sqrt(self.d_k)\n",
    "\n",
    "        # mask illegal tokens\n",
    "        if mask is not None:\n",
    "            attn_scores = attn_scores.masked_fill(mask==0, -1e9)\n",
    "\n",
    "        # transform attention score to probablities using softmax function\n",
    "        attn_probs = torch.softmax(attn_scores, dim=-1)\n",
    "\n",
    "        # weighted sum of values\n",
    "        output = torch.matmul(attn_probs, V)\n",
    "\n",
    "        return output\n",
    "    \n",
    "    # split attention into multiple heads\n",
    "    def split_heads(self, x):\n",
    "        batch_size, seq_length, d_model = x.size()\n",
    "        return x.view(batch_size, seq_length, self.num_heads, self.d_k).transpose(1,2)\n",
    "    \n",
    "    # concatenated multiple heads into one\n",
    "    def combine_heads(self, x):\n",
    "        batch_size, _, seq_lenght, d_k = x.size()\n",
    "        return x.transpose(1, 2).contiguous().view(batch_size, seq_lenght, self.d_model)\n",
    "    \n",
    "    def forward(self, Q, K, V, mask=None):\n",
    "\n",
    "        Q = self.split_heads(self.W_q(Q)) # calculate query\n",
    "        K = self.split_heads(self.W_k(K)) # calculate keys\n",
    "        V = self.split_heads(self.W_v(V)) # calculate values\n",
    "\n",
    "        # calculate attention values for multiple heads\n",
    "        attn_output = self.scaled_dot_product_attention(Q, K, V, mask)\n",
    "\n",
    "        # combine attention values from multiple head and final attention output\n",
    "        output = self.W_o(self.combine_heads(attn_output))\n",
    "        return output\n",
    "\n"
   ]
  },
  {
   "cell_type": "markdown",
   "metadata": {},
   "source": [
    "# Position Wise Feed Foreward Neural Network"
   ]
  },
  {
   "cell_type": "code",
   "execution_count": 78,
   "metadata": {},
   "outputs": [],
   "source": [
    "class PositionWiseFeedForward(nn.Module):\n",
    "    def __init__(self, d_model, d_ff):\n",
    "        super(PositionWiseFeedForward, self).__init__()\n",
    "        self.fc1 = nn.Linear(d_model, d_ff)\n",
    "        self.fc2 = nn.Linear(d_ff, d_model)\n",
    "\n",
    "    def forward(self, x):\n",
    "        output = self.fc1(x)\n",
    "        output = nn.ReLU()(output)\n",
    "        output = self.fc2(output)\n",
    "        return output"
   ]
  },
  {
   "cell_type": "markdown",
   "metadata": {},
   "source": [
    "# Encoder and Decoder"
   ]
  },
  {
   "cell_type": "code",
   "execution_count": 79,
   "metadata": {},
   "outputs": [],
   "source": [
    "class Encoder(nn.Module):\n",
    "    def __init__(self, d_model, num_heads, d_ff, dropout):\n",
    "        super(Encoder, self).__init__()\n",
    "        # attention layer\n",
    "        self.self_attn = MultiHeadAttention(d_model, num_heads)\n",
    "        # feed forward neural network\n",
    "        self.feed_forward = PositionWiseFeedForward(d_model, d_ff)\n",
    "        # layer norm after attendtion\n",
    "        self.norm1 = nn.LayerNorm(d_model)\n",
    "        # layer norm after feed forward\n",
    "        self.norm2 = nn.LayerNorm(d_model)\n",
    "        # dropout layer after output of each sublayer layer\n",
    "        self.dropout = nn.Dropout(dropout)\n",
    "\n",
    "    def forward(self, x, mask):\n",
    "        attn_output = self.self_attn(x, x, x, mask) # residual connection\n",
    "        x = self.norm1(x + self.dropout(attn_output))\n",
    "        ff_output = self.feed_forward(x)\n",
    "        x = self.norm2(x + self.dropout(ff_output))# residual connection\n",
    "        return x\n",
    "    \n",
    "class Decoder(nn.Module):\n",
    "    def __init__(self, d_model, num_heads, d_ff, dropout):\n",
    "        super(Decoder, self).__init__()\n",
    "        # self attention layer\n",
    "        self.self_attn = MultiHeadAttention(d_model, num_heads)\n",
    "        # encoder decoder attention layer\n",
    "        self.encoder_decoder_attn = MultiHeadAttention(d_model, num_heads)\n",
    "        # Feed forwards layer\n",
    "        self.feed_forward = PositionWiseFeedForward(d_model, d_ff)\n",
    "        # layer norm after self attn\n",
    "        self.norm1 = nn.LayerNorm(d_model)\n",
    "        # layer norm after encoder decoder attn\n",
    "        self.norm2 = nn.LayerNorm(d_model)\n",
    "        # layer norm after feed forward neural network\n",
    "        self.norm3 = nn.LayerNorm(d_model)\n",
    "        # drpout layer\n",
    "        self.dropout = nn.Dropout(dropout)\n",
    "\n",
    "    def forward(self, x, encoder_output, src_mask, tgt_mask):\n",
    "        self_attn_output = self.self_attn(x, x, x, tgt_mask)\n",
    "        x = self.norm1(x+self.dropout(self_attn_output)) # residual connection \n",
    "        enc_dec_attn_output = self.encoder_decoder_attn(x, encoder_output, encoder_output, src_mask)\n",
    "        x = self.norm2(x+self.dropout(enc_dec_attn_output)) # residual connection\n",
    "        ff_output = self.feed_forward(x)\n",
    "        x = self.norm3(x+self.dropout(ff_output)) # residula connection\n",
    "        return x\n"
   ]
  },
  {
   "cell_type": "markdown",
   "metadata": {},
   "source": [
    "# Positional Encoding\n"
   ]
  },
  {
   "cell_type": "code",
   "execution_count": 80,
   "metadata": {},
   "outputs": [],
   "source": [
    "class PositionalEncoding(nn.Module):\n",
    "    def __init__(self, d_model, max_seq_length):\n",
    "        super(PositionalEncoding, self).__init__()\n",
    "\n",
    "        pe = torch.zeros(max_seq_length, d_model)\n",
    "        position = torch.arange(0, max_seq_length, dtype=torch.float).unsqueeze(1)\n",
    "        div_term = torch.exp(torch.arange(0, d_model, 2).float() * -(math.log(10000)))\n",
    "\n",
    "        pe[:, 0::2] = torch.sin(position*div_term)\n",
    "        pe[:, 1::2] = torch.cos(position*div_term)\n",
    "\n",
    "        self.register_buffer('pe', pe.unsqueeze(0))\n",
    "\n",
    "    def forward(self, x):\n",
    "        return x+self.pe[:, :x.size(1)]"
   ]
  },
  {
   "cell_type": "markdown",
   "metadata": {},
   "source": [
    "# Transformer Architecture"
   ]
  },
  {
   "cell_type": "code",
   "execution_count": 81,
   "metadata": {},
   "outputs": [],
   "source": [
    "class Transformer(nn.Module):\n",
    "    def __init__(self, src_vocab_size, tgt_vocab_size, d_model, num_heads, num_layers, d_ff, max_seq_length, dropout):\n",
    "        super(Transformer, self).__init__()\n",
    "\n",
    "        self.encoder_embedding = nn.Embedding(src_vocab_size, d_model)\n",
    "        self.decoder_embedding = nn.Embedding(tgt_vocab_size, d_model)\n",
    "        self.positional_encoding = PositionalEncoding(d_model, max_seq_length)\n",
    "\n",
    "        self.encoder_stack = nn.ModuleList([Encoder(d_model, num_heads, d_ff, dropout) for _ in range(num_layers)])\n",
    "        self.decoder_stack = nn.ModuleList([Decoder(d_model, num_heads, d_ff, dropout) for _ in range(num_layers)])\n",
    "\n",
    "        self.fc = nn.Linear(d_model, tgt_vocab_size)\n",
    "        self.dropout = nn.Dropout(dropout)\n",
    "\n",
    "    def generate_mask(self, src, tgt):\n",
    "        src_mask = (src != 0).unsqueeze(1).unsqueeze(2)\n",
    "        tgt_mask = (tgt != 0).unsqueeze(1).unsqueeze(2)\n",
    "        seq_length = tgt.size(1)\n",
    "        nopeak_mask = (1-torch.triu(torch.ones(1, seq_length, seq_length), diagonal=1)).bool()\n",
    "        tgt_mask = tgt_mask & nopeak_mask\n",
    "        return src_mask, tgt_mask\n",
    "    \n",
    "    def forward(self, src, tgt):\n",
    "        src_mask, tgt_mask = self.generate_mask(src, tgt)\n",
    "        src_embeddings = self.dropout(self.positional_encoding(self.encoder_embedding(src)))\n",
    "        tgt_emneddings = self.dropout(self.positional_encoding(self.decoder_embedding(tgt)))\n",
    "\n",
    "        enc_output = src_embeddings\n",
    "        for enc_layer in self.encoder_stack:\n",
    "            enc_output = enc_layer(enc_output, src_mask)\n",
    "\n",
    "        dec_output = tgt_emneddings\n",
    "        for dec_layer in self.decoder_stack:\n",
    "            dec_output = dec_layer(dec_output, enc_output, src_mask, tgt_mask)\n",
    "\n",
    "        output = self.fc(dec_output)\n",
    "\n",
    "        return output\n",
    "\n"
   ]
  },
  {
   "cell_type": "markdown",
   "metadata": {},
   "source": [
    "# Prepare Sample Data"
   ]
  },
  {
   "cell_type": "code",
   "execution_count": 82,
   "metadata": {},
   "outputs": [],
   "source": [
    "src_vocab_size = 5000\n",
    "tgt_vocab_size = 5000\n",
    "d_model = 512\n",
    "num_heads = 8\n",
    "num_layers = 6\n",
    "d_ff = 2048\n",
    "max_seq_length = 100\n",
    "dropout = 0.1\n",
    "\n",
    "transformer = Transformer(src_vocab_size, tgt_vocab_size, d_model, num_heads, num_layers, d_ff, max_seq_length, dropout)\n",
    "\n",
    "# Generate random sample data\n",
    "src_data = torch.randint(1, src_vocab_size, (64, max_seq_length))  # (batch_size, seq_length)\n",
    "tgt_data = torch.randint(1, tgt_vocab_size, (64, max_seq_length)) "
   ]
  },
  {
   "cell_type": "markdown",
   "metadata": {},
   "source": [
    "# Training the model"
   ]
  },
  {
   "cell_type": "code",
   "execution_count": 83,
   "metadata": {},
   "outputs": [
    {
     "name": "stdout",
     "output_type": "stream",
     "text": [
      "Epoch: 1, Loss: 8.68905258178711\n",
      "Epoch: 2, Loss: 8.563027381896973\n",
      "Epoch: 3, Loss: 8.495355606079102\n",
      "Epoch: 4, Loss: 8.447508811950684\n",
      "Epoch: 5, Loss: 8.403788566589355\n",
      "Epoch: 6, Loss: 8.347920417785645\n",
      "Epoch: 7, Loss: 8.283411979675293\n",
      "Epoch: 8, Loss: 8.198308944702148\n",
      "Epoch: 9, Loss: 8.12839126586914\n"
     ]
    }
   ],
   "source": [
    "criterion = nn.CrossEntropyLoss(ignore_index=0)\n",
    "optimizer = optim.Adam(transformer.parameters(), lr=0.0001, betas=(0.9, 0.98), eps=1e-9)\n",
    "\n",
    "transformer.train()\n",
    "\n",
    "for epoch in range(100):\n",
    "    optimizer.zero_grad()\n",
    "    output = transformer(src_data, tgt_data[:, :-1])\n",
    "    loss = criterion(output.contiguous().view(-1, tgt_vocab_size), tgt_data[:, 1:].contiguous().view(-1))\n",
    "    loss.backward()\n",
    "    optimizer.step()\n",
    "    print(f\"Epoch: {epoch+1}, Loss: {loss.item()}\")"
   ]
  },
  {
   "cell_type": "code",
   "execution_count": null,
   "metadata": {},
   "outputs": [],
   "source": []
  }
 ],
 "metadata": {
  "kernelspec": {
   "display_name": "Python 3",
   "language": "python",
   "name": "python3"
  },
  "language_info": {
   "codemirror_mode": {
    "name": "ipython",
    "version": 3
   },
   "file_extension": ".py",
   "mimetype": "text/x-python",
   "name": "python",
   "nbconvert_exporter": "python",
   "pygments_lexer": "ipython3",
   "version": "3.9.19"
  }
 },
 "nbformat": 4,
 "nbformat_minor": 2
}
