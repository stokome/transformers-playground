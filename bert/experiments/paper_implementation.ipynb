{
 "cells": [
  {
   "cell_type": "code",
   "execution_count": 2,
   "metadata": {},
   "outputs": [],
   "source": [
    "import torch\n",
    "import torch.nn as nn\n",
    "import torch.optim as optim\n",
    "import math"
   ]
  },
  {
   "cell_type": "markdown",
   "metadata": {},
   "source": [
    "# Model Architecture"
   ]
  },
  {
   "cell_type": "markdown",
   "metadata": {},
   "source": [
    "## Multi Head Self Attention "
   ]
  },
  {
   "cell_type": "code",
   "execution_count": 3,
   "metadata": {},
   "outputs": [],
   "source": [
    "class MultiHeadAttention(nn.Module):\n",
    "    def __ini__(self, h, d_model):\n",
    "        super().__init__()\n",
    "\n",
    "        # check in hidden dimension of model divisible by number of attention heads\n",
    "        assert d_model%h == 0, 'd_model must be divisible by h'\n",
    "\n",
    "        # initialize hyperparams of multihead attention\n",
    "        self.h = h\n",
    "        self.d_model = d_model\n",
    "        self.d_k = d_model//h\n",
    "\n",
    "        # initialize weights of key, query and values\n",
    "        self.w_Q = nn.Linear(d_model, d_model)\n",
    "        self.w_K = nn.Linear(d_model, d_model)\n",
    "        self.w_V = nn.Linear(d_model, d_model)\n",
    "\n",
    "        # initialize a linear layer to concat the attention vector\n",
    "        self.w_O = nn.Linear(d_model, d_model)\n",
    "\n",
    "\n",
    "    def self_attention(self, Q, K, V, mask=None, dropout=None):\n",
    "        # calculated self attention scores\n",
    "        attn_score =  torch.matmul(Q, K.transpose(-2, -1))/math.sqrt(self.d_k)\n",
    "\n",
    "        # apply masking to self attention scores\n",
    "        if mask is not None:\n",
    "            attn_score = attn_score.masked_fill(mask==0, 1e-9)\n",
    "\n",
    "        # apply dropout to self attention scores\n",
    "        if dropout:\n",
    "            attn_score = nn.Dropout(dropout)(attn_score)\n",
    "\n",
    "        return torch.matmul(nn.Softmax(attn_score), V), attn_score\n",
    "        \n",
    "    \n",
    "    def forward(self, input, mask=None, dropout=None):\n",
    "        # calulate query, key and values\n",
    "        Q, K, V = self.w_Q(input), self.w_K(input), self.w_V(input)\n",
    "\n",
    "        # input shape\n",
    "        batch_size, seq_lenth, d_model = input.size()\n",
    "\n",
    "        # linear projections of Q,k,V into h heads\n",
    "        Q = Q.view(batch_size, seq_lenth, self.h, self.d_k).transpose(1,2)\n",
    "        K = K.view(batch_size, seq_lenth, self.h, self.d_k).transpose(1,2)\n",
    "        V = V.view(batch_size, seq_lenth, self.h, self.d_k).transpose(1,2)\n",
    "\n",
    "        # calculate the self attention scores\n",
    "        x, attn_score = self.self_attention(Q, K, V, mask, dropout)\n",
    "\n",
    "        # concat the linear projections of attention scores and apply one linear layer\n",
    "        x = x.transpose(1,2).contiguous().view(batch_size, seq_lenth, self.h, self.d_k)\n",
    "        return self.w_O(x)\n"
   ]
  },
  {
   "cell_type": "code",
   "execution_count": null,
   "metadata": {},
   "outputs": [],
   "source": []
  }
 ],
 "metadata": {
  "kernelspec": {
   "display_name": "Python 3",
   "language": "python",
   "name": "python3"
  },
  "language_info": {
   "codemirror_mode": {
    "name": "ipython",
    "version": 3
   },
   "file_extension": ".py",
   "mimetype": "text/x-python",
   "name": "python",
   "nbconvert_exporter": "python",
   "pygments_lexer": "ipython3",
   "version": "3.9.19"
  }
 },
 "nbformat": 4,
 "nbformat_minor": 2
}
